{
 "cells": [
  {
   "cell_type": "code",
   "execution_count": 6,
   "id": "0ad03a9f-e806-4f13-91a4-26525fc36f26",
   "metadata": {},
   "outputs": [],
   "source": [
    "import pandas as pd"
   ]
  },
  {
   "cell_type": "code",
   "execution_count": 9,
   "id": "bd55385d-ed0a-40d7-b932-8825b7711a66",
   "metadata": {},
   "outputs": [
    {
     "name": "stdout",
     "output_type": "stream",
     "text": [
      "   -1.662  4.278  3.827\n",
      "0  -1.822  4.162  3.826\n",
      "1  -1.965  4.026  3.827\n",
      "2  -2.091  3.874  3.876\n",
      "3  -2.199  3.708  3.949\n",
      "4  -2.289  3.532  4.032\n"
     ]
    }
   ],
   "source": [
    "\n",
    "df = pd.read_csv('trajectory_generator/outputs/test/lane_optimal.csv')\n",
    "print(df.head())  # 처음 5행만 보기"
   ]
  },
  {
   "cell_type": "code",
   "execution_count": 10,
   "id": "a6a275f6-a468-454f-80fd-fa621f9e982a",
   "metadata": {},
   "outputs": [
    {
     "name": "stdout",
     "output_type": "stream",
     "text": [
      "<class 'pandas.core.frame.DataFrame'>\n",
      "RangeIndex: 77 entries, 0 to 76\n",
      "Data columns (total 3 columns):\n",
      " #   Column  Non-Null Count  Dtype  \n",
      "---  ------  --------------  -----  \n",
      " 0   -1.662  77 non-null     float64\n",
      " 1   4.278   77 non-null     float64\n",
      " 2   3.827   77 non-null     float64\n",
      "dtypes: float64(3)\n",
      "memory usage: 1.9 KB\n"
     ]
    }
   ],
   "source": [
    "df.info()"
   ]
  },
  {
   "cell_type": "raw",
   "id": "71fd84bc-f20b-4e4a-a421-ee58507ac1ea",
   "metadata": {},
   "source": []
  },
  {
   "cell_type": "code",
   "execution_count": null,
   "id": "ba81cc02-b0cc-4a96-98c4-2c10476c5ed9",
   "metadata": {},
   "outputs": [],
   "source": []
  }
 ],
 "metadata": {
  "kernelspec": {
   "display_name": "Python (raceline)",
   "language": "python",
   "name": "raceline"
  },
  "language_info": {
   "codemirror_mode": {
    "name": "ipython",
    "version": 3
   },
   "file_extension": ".py",
   "mimetype": "text/x-python",
   "name": "python",
   "nbconvert_exporter": "python",
   "pygments_lexer": "ipython3",
   "version": "3.8.20"
  }
 },
 "nbformat": 4,
 "nbformat_minor": 5
}
